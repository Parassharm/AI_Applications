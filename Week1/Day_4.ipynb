{
  "nbformat": 4,
  "nbformat_minor": 0,
  "metadata": {
    "colab": {
      "provenance": []
    },
    "kernelspec": {
      "name": "python3",
      "display_name": "Python 3"
    },
    "language_info": {
      "name": "python"
    }
  },
  "cells": [
    {
      "cell_type": "markdown",
      "source": [
        "**DAY 4= FILE HANDALING AND EXCEPTIONS**"
      ],
      "metadata": {
        "id": "eKaf0lglAB9L"
      }
    },
    {
      "cell_type": "markdown",
      "source": [
        "# OPENING AND READING A FILE"
      ],
      "metadata": {
        "id": "gu2CkuVwA6_i"
      }
    },
    {
      "cell_type": "code",
      "source": [
        "f = open(\"test.txt\",\"r\")\n",
        "print(f.read())\n",
        "f.close()\n",
        "#Whole text"
      ],
      "metadata": {
        "colab": {
          "base_uri": "https://localhost:8080/"
        },
        "id": "GCOKZEjLAaXx",
        "outputId": "18a356a8-f58a-4809-a34e-77fb6f8f31e0"
      },
      "execution_count": null,
      "outputs": [
        {
          "output_type": "stream",
          "name": "stdout",
          "text": [
            "I am learning.\n",
            "I was learning.\n",
            "I will be learning.\n"
          ]
        }
      ]
    },
    {
      "cell_type": "code",
      "source": [],
      "metadata": {
        "id": "JE5RTKLKa5wW"
      },
      "execution_count": null,
      "outputs": []
    },
    {
      "cell_type": "code",
      "source": [
        "f = open(\"test.txt\",\"r\")\n",
        "print(f.readlines())\n",
        "f.close()\n",
        "#Readlines made all list"
      ],
      "metadata": {
        "colab": {
          "base_uri": "https://localhost:8080/"
        },
        "id": "WUc5c28vCFzz",
        "outputId": "cbc17e74-3291-468d-d153-f760f7575037"
      },
      "execution_count": null,
      "outputs": [
        {
          "output_type": "stream",
          "name": "stdout",
          "text": [
            "['I am learning.\\n', 'I was learning.\\n', 'I will be learning.']\n"
          ]
        }
      ]
    },
    {
      "cell_type": "code",
      "source": [
        "f = open(\"test.txt\",\"r\")\n",
        "print(f.readline())\n",
        "f.close()\n",
        "#makes single text"
      ],
      "metadata": {
        "colab": {
          "base_uri": "https://localhost:8080/"
        },
        "id": "3qNVBr9eCXYd",
        "outputId": "1f76b115-7297-4db7-e7cd-edfdd7229d9e"
      },
      "execution_count": null,
      "outputs": [
        {
          "output_type": "stream",
          "name": "stdout",
          "text": [
            "I am learning.\n",
            "\n"
          ]
        }
      ]
    },
    {
      "cell_type": "code",
      "source": [
        "f = open(\"test.txt\",\"r\")\n",
        "print(f.readlines(16))\n",
        "f.close()\n",
        "#Take upto word if 6th text"
      ],
      "metadata": {
        "colab": {
          "base_uri": "https://localhost:8080/"
        },
        "id": "x4lEikjICena",
        "outputId": "1cc976f9-c48b-473e-a74c-ce70c633ea52"
      },
      "execution_count": null,
      "outputs": [
        {
          "output_type": "stream",
          "name": "stdout",
          "text": [
            "['I am learning.\\n', 'I was learning.\\n']\n"
          ]
        }
      ]
    },
    {
      "cell_type": "markdown",
      "source": [
        "**With operation**"
      ],
      "metadata": {
        "id": "njp9ioK5CXEd"
      }
    },
    {
      "cell_type": "code",
      "source": [
        "with open(\"test.txt\",\"r\") as f:#function aliase\n",
        "  print(f.read())"
      ],
      "metadata": {
        "colab": {
          "base_uri": "https://localhost:8080/"
        },
        "id": "XmULx5jODEze",
        "outputId": "df896498-2ae5-4cba-8ecf-0c40da8c4956"
      },
      "execution_count": null,
      "outputs": [
        {
          "output_type": "stream",
          "name": "stdout",
          "text": [
            "I am learning.\n",
            "I was learning.\n",
            "I will be learning.\n"
          ]
        }
      ]
    },
    {
      "cell_type": "markdown",
      "source": [
        "**WRITING TO A FILE**"
      ],
      "metadata": {
        "id": "_8fzcsS2DpVo"
      }
    },
    {
      "cell_type": "code",
      "source": [
        "f = open(\"test.txt\",\"w\")\n",
        "f.write(\"I am writing to this file\")\n",
        "f.close()"
      ],
      "metadata": {
        "id": "dMGml8NyDsLs"
      },
      "execution_count": null,
      "outputs": []
    },
    {
      "cell_type": "code",
      "source": [
        "with open(\"test.txt\",\"w\") as f:\n",
        "  f.write(\"I wrote the file through with\")"
      ],
      "metadata": {
        "id": "_h1If0ixEYkp"
      },
      "execution_count": null,
      "outputs": []
    },
    {
      "cell_type": "markdown",
      "source": [
        "**APPENDING TO A FILE**"
      ],
      "metadata": {
        "id": "I-hWqrO8E9nk"
      }
    },
    {
      "cell_type": "code",
      "source": [
        "f = open(\"test.txt\",\"a\")\n",
        "f.write(\"\\nI am appending this file\")\n",
        "f.close()"
      ],
      "metadata": {
        "id": "l1nialJ7FDw7"
      },
      "execution_count": null,
      "outputs": []
    },
    {
      "cell_type": "markdown",
      "source": [
        "**CLASSWORK**"
      ],
      "metadata": {
        "id": "-Sfz-uGIF2z6"
      }
    },
    {
      "cell_type": "code",
      "source": [
        "try:\n",
        "    # Open the file in read mode\n",
        "    with open(\"data.txt\", \"r\") as file:\n",
        "        # Read and print each line\n",
        "        for line in file:\n",
        "            print(line.strip())  # strip() removes any trailing newline characters\n",
        "except FileNotFoundError:\n",
        "    print(\"Error: The file 'data.txt' does not exist.\")"
      ],
      "metadata": {
        "colab": {
          "base_uri": "https://localhost:8080/"
        },
        "id": "8G-wjJ_bF7Jg",
        "outputId": "414d3be7-f354-44c0-c703-25a1ff51603b"
      },
      "execution_count": null,
      "outputs": [
        {
          "output_type": "stream",
          "name": "stdout",
          "text": [
            "I love Nepal.\n",
            "Nepali love Nepal.\n",
            "We love Nepal.\n",
            "Ram love Nepal.\n",
            "Sita was born in Nepal.\n",
            "Buddha was born in Nepal.\n"
          ]
        }
      ]
    },
    {
      "cell_type": "code",
      "source": [
        "try:\n",
        "    # Prompt user for their name\n",
        "    name = input(\"Enter your name: \")\n",
        "\n",
        "    # Open the file in write mode and save the name\n",
        "    with open(\"user.txt\", \"w\") as file:\n",
        "        file.write(name)\n",
        "\n",
        "    print(\"Name successfully saved to 'user.txt'.\")\n",
        "\n",
        "except IOError as e:\n",
        "    print(\"An error occurred while writing to the file.\")\n",
        "    print(f\"Details: {e}\")"
      ],
      "metadata": {
        "colab": {
          "base_uri": "https://localhost:8080/"
        },
        "id": "oLfOWpwMHOyU",
        "outputId": "3c197885-d98a-496c-f80f-a93d850c5ff6"
      },
      "execution_count": null,
      "outputs": [
        {
          "output_type": "stream",
          "name": "stdout",
          "text": [
            "Enter your name: Paras\n",
            "Name successfully saved to 'user.txt'.\n"
          ]
        }
      ]
    },
    {
      "cell_type": "markdown",
      "source": [
        "**DELETING A FILE/FOLDER**"
      ],
      "metadata": {
        "id": "GiRXOwUOPFs5"
      }
    },
    {
      "cell_type": "code",
      "source": [
        "import os\n",
        "os.remove (\"test.txt\")"
      ],
      "metadata": {
        "id": "jVPDL1eMQyx2"
      },
      "execution_count": null,
      "outputs": []
    },
    {
      "cell_type": "code",
      "source": [
        "os.rmdir(\"/content/delete_me\")"
      ],
      "metadata": {
        "colab": {
          "base_uri": "https://localhost:8080/",
          "height": 141
        },
        "id": "Ue6kNFzqRkTw",
        "outputId": "b4664484-e2f6-4acd-bbe1-e794d151680f"
      },
      "execution_count": null,
      "outputs": [
        {
          "output_type": "error",
          "ename": "FileNotFoundError",
          "evalue": "[Errno 2] No such file or directory: '/content/delete_me'",
          "traceback": [
            "\u001b[0;31m---------------------------------------------------------------------------\u001b[0m",
            "\u001b[0;31mFileNotFoundError\u001b[0m                         Traceback (most recent call last)",
            "\u001b[0;32m<ipython-input-53-790372917837>\u001b[0m in \u001b[0;36m<cell line: 0>\u001b[0;34m()\u001b[0m\n\u001b[0;32m----> 1\u001b[0;31m \u001b[0mos\u001b[0m\u001b[0;34m.\u001b[0m\u001b[0mrmdir\u001b[0m\u001b[0;34m(\u001b[0m\u001b[0;34m\"/content/delete_me\"\u001b[0m\u001b[0;34m)\u001b[0m\u001b[0;34m\u001b[0m\u001b[0;34m\u001b[0m\u001b[0m\n\u001b[0m",
            "\u001b[0;31mFileNotFoundError\u001b[0m: [Errno 2] No such file or directory: '/content/delete_me'"
          ]
        }
      ]
    },
    {
      "cell_type": "markdown",
      "source": [
        "Basic Exception handling"
      ],
      "metadata": {
        "id": "6hepp1LLSALj"
      }
    },
    {
      "cell_type": "code",
      "source": [
        "a=7\n",
        "try:\n",
        "  print(b)\n",
        "except NameError:\n",
        "  print(\"Name Error exception occurred\")"
      ],
      "metadata": {
        "colab": {
          "base_uri": "https://localhost:8080/"
        },
        "id": "gatghRtkSEDc",
        "outputId": "a461d370-6ebf-4b1d-e11a-b1dc0a4fce01"
      },
      "execution_count": null,
      "outputs": [
        {
          "output_type": "stream",
          "name": "stdout",
          "text": [
            "Name Error exception occurred\n"
          ]
        }
      ]
    }
  ]
}
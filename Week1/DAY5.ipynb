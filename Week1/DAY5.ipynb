{
  "nbformat": 4,
  "nbformat_minor": 0,
  "metadata": {
    "colab": {
      "provenance": []
    },
    "kernelspec": {
      "name": "python3",
      "display_name": "Python 3"
    },
    "language_info": {
      "name": "python"
    }
  },
  "cells": [
    {
      "cell_type": "markdown",
      "source": [
        "**CREATING A NUMPY ARRAY AND ITS ATTRIBUTES**"
      ],
      "metadata": {
        "id": "USzNV7x-Elo7"
      }
    },
    {
      "cell_type": "code",
      "execution_count": 2,
      "metadata": {
        "colab": {
          "base_uri": "https://localhost:8080/"
        },
        "id": "rVSd9TzMEhad",
        "outputId": "8ac426e6-e66b-47cc-a091-b56dae4832f4"
      },
      "outputs": [
        {
          "output_type": "stream",
          "name": "stdout",
          "text": [
            "[1 3 5 7 9]\n",
            "[1 3 5 7 9]\n",
            "42\n",
            "[1 2 3 4 5]\n",
            "[[[ 1  2  3]\n",
            "  [ 4  5  6]]\n",
            "\n",
            " [[ 1  2  3]\n",
            "  [10 11 12]]]\n"
          ]
        }
      ],
      "source": [
        "#Importing numpy\n",
        "import numpy as np\n",
        "my_list = [1,3,5,7,9]\n",
        "my_array = numpy.array(my_list)\n",
        "print(my_array)\n",
        "#Creating a numpy array from \"my_list\"\n",
        "my_arr = np.array(my_list)\n",
        "#Printing the array\n",
        "print(my_arr)\n",
        "\n",
        "#Creating a 0-D array\n",
        "arr_0d = np.array(42)\n",
        "print(arr_0d)\n",
        "\n",
        "#Creating a 2-D array\n",
        "arr_2d = np.array([1,2,3,4,5])\n",
        "print(arr_2d)\n",
        "\n",
        "#Creating a 3-D aaray\n",
        "arr_3d = np.array([[[1,2,3],[4,5,6]],[[1,2,3],[10,11,12]]])\n",
        "print(arr_3d)"
      ]
    },
    {
      "cell_type": "code",
      "source": [
        "# Creating array and its attributes\n",
        "\n",
        "arr = np.array([[1,2,3,4,], [6,7,8,9]])\n",
        "print(arr) #printing the array\n",
        "print(arr.shape) #printing the shape of array\n",
        "print(arr.ndim) #Dimensions\n",
        "print(arr.dtype) #Types........\n",
        "print(arr.size) #Size......"
      ],
      "metadata": {
        "colab": {
          "base_uri": "https://localhost:8080/",
          "height": 106
        },
        "id": "-1iNiEuyFzZu",
        "outputId": "0da7ff14-e346-4849-d5f3-f94409039189"
      },
      "execution_count": 9,
      "outputs": [
        {
          "output_type": "error",
          "ename": "SyntaxError",
          "evalue": "invalid non-printable character U+00A0 (<ipython-input-9-198825bbc78e>, line 8)",
          "traceback": [
            "\u001b[0;36m  File \u001b[0;32m\"<ipython-input-9-198825bbc78e>\"\u001b[0;36m, line \u001b[0;32m8\u001b[0m\n\u001b[0;31m    print(arr.size) #Size......\u001b[0m\n\u001b[0m                   ^\u001b[0m\n\u001b[0;31mSyntaxError\u001b[0m\u001b[0;31m:\u001b[0m invalid non-printable character U+00A0\n"
          ]
        }
      ]
    },
    {
      "cell_type": "code",
      "source": [
        "#Accesing 1-D array elements\n",
        "my_arr = np.array([2,5,7,9])\n",
        "print(my_arr[2])"
      ],
      "metadata": {
        "colab": {
          "base_uri": "https://localhost:8080/"
        },
        "id": "YUGBRhZNHToG",
        "outputId": "d4565cff-8c30-4354-ceb0-744002b00c70"
      },
      "execution_count": 11,
      "outputs": [
        {
          "output_type": "stream",
          "name": "stdout",
          "text": [
            "7\n"
          ]
        }
      ]
    },
    {
      "cell_type": "code",
      "source": [
        "#Accesing 2-D array elementss\n",
        "my_arr = np.array([[2,5,7,9],[1,3,5,7]])\n",
        "print(my_arr[1,2])"
      ],
      "metadata": {
        "colab": {
          "base_uri": "https://localhost:8080/"
        },
        "id": "Romco9PiHrI5",
        "outputId": "15b2b5af-f01b-431c-e851-61b7aaa1dcb1"
      },
      "execution_count": 13,
      "outputs": [
        {
          "output_type": "stream",
          "name": "stdout",
          "text": [
            "5\n"
          ]
        }
      ]
    },
    {
      "cell_type": "code",
      "source": [
        "#Accessing 3-D\n",
        "my_arr = np.array([[[2,5,7,9],[1,3,5,7],[2,5,7,9],[1,3,5,7]]])\n",
        "print(my_arr[0,1,2])"
      ],
      "metadata": {
        "colab": {
          "base_uri": "https://localhost:8080/"
        },
        "id": "forVrAfdIAw_",
        "outputId": "7f05e60b-d322-4cc1-cf14-fe410343997f"
      },
      "execution_count": 15,
      "outputs": [
        {
          "output_type": "stream",
          "name": "stdout",
          "text": [
            "5\n"
          ]
        }
      ]
    },
    {
      "cell_type": "markdown",
      "source": [
        "**NEGATIVE INDEXING**"
      ],
      "metadata": {
        "id": "uv3V2ZIwIff6"
      }
    },
    {
      "cell_type": "code",
      "source": [
        "my_arr = np.array([[2,5,7,9],[1,3,5,7]])\n",
        "print(my_arr[1,-2])"
      ],
      "metadata": {
        "colab": {
          "base_uri": "https://localhost:8080/"
        },
        "id": "Kz-_URmEJCdJ",
        "outputId": "142b47ec-72ab-47a6-c2ef-1a1d15fa61a7"
      },
      "execution_count": 18,
      "outputs": [
        {
          "output_type": "stream",
          "name": "stdout",
          "text": [
            "5\n"
          ]
        }
      ]
    },
    {
      "cell_type": "markdown",
      "source": [
        "**SLICING ARRAYS**\n",
        "\n",
        "Important concepts while slicing arrays\n",
        "\n",
        "array[start:end]\n",
        "array[start:end:step]"
      ],
      "metadata": {
        "id": "M818uzOfJNFP"
      }
    },
    {
      "cell_type": "code",
      "source": [
        "#Slicing a 1-D Numpy Array\n",
        "arr = np.array([1,3,5,7,9,11,13,15,17,19,21])\n",
        "print(arr[1:5]) #Slicing\n",
        "print(arr[1:5:2]) #Slicing with step\n",
        "print(arr[0:-1]) #Slicing with negative index"
      ],
      "metadata": {
        "colab": {
          "base_uri": "https://localhost:8080/"
        },
        "id": "6lPL386BJQXc",
        "outputId": "0ad099d6-f12b-48ce-936a-136aec11f40c"
      },
      "execution_count": 20,
      "outputs": [
        {
          "output_type": "stream",
          "name": "stdout",
          "text": [
            "[3 5 7 9]\n",
            "[3 7]\n",
            "[ 1  3  5  7  9 11 13 15 17 19]\n"
          ]
        }
      ]
    },
    {
      "cell_type": "code",
      "source": [
        "#Slicing a 2-D Numpy Array\n",
        "arr = np.array([[1,3,5,7],[2,4,6,8]])\n",
        "print(arr[1,1:-1])\n"
      ],
      "metadata": {
        "colab": {
          "base_uri": "https://localhost:8080/"
        },
        "id": "Rv8Cy3kkKCRU",
        "outputId": "1756c585-84e2-40d1-9a44-a3165d20c597"
      },
      "execution_count": 21,
      "outputs": [
        {
          "output_type": "stream",
          "name": "stdout",
          "text": [
            "[4 6]\n"
          ]
        }
      ]
    },
    {
      "cell_type": "markdown",
      "source": [
        "#HOMEWORK\n",
        "-Expirement with slicing on a 3-D Array\n",
        "#CLASSWORK: Whatsapp group"
      ],
      "metadata": {
        "id": "o3is-czJKTbi"
      }
    }
  ]
}
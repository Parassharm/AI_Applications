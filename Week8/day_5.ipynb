{
  "cells": [
    {
      "cell_type": "markdown",
      "metadata": {
        "id": "c5FkrtoyDd3q"
      },
      "source": [
        "#NUMPY BASICS"
      ]
    },
    {
      "cell_type": "markdown",
      "metadata": {
        "id": "Y1HCtmQ3Dhur"
      },
      "source": [
        "## CREATING A NUMPY ARRAY AND ITS ATTRIBUTES"
      ]
    },
    {
      "cell_type": "code",
      "execution_count": null,
      "metadata": {
        "colab": {
          "base_uri": "https://localhost:8080/"
        },
        "id": "_KSkob7_17mi",
        "outputId": "0662f5df-1591-4f14-e954-8f646b3c4392"
      },
      "outputs": [
        {
          "name": "stdout",
          "output_type": "stream",
          "text": [
            "[1 3 5 7 9]\n",
            "42\n",
            "[[1 2 3]\n",
            " [4 5 6]]\n",
            "[[[ 1  2  3]\n",
            "  [ 4  5  6]]\n",
            "\n",
            " [[ 7  8  9]\n",
            "  [10 11 12]]]\n"
          ]
        }
      ],
      "source": [
        "#Importing numpy library\n",
        "import numpy as np\n",
        "#Creating a list named \"my_list\"\n",
        "my_list = [1,3,5,7,9]\n",
        "#Creating a 1-D numpy array from \"my_list\"\n",
        "my_arr = np.array(my_list)\n",
        "#Printing the array\n",
        "print(my_arr)\n",
        "\n",
        "#Creating a 0-D array\n",
        "arr_0d = np.array(42)\n",
        "print(arr_0d)\n",
        "\n",
        "#Creating a 2-D array\n",
        "arr_2d = np.array([[1,2,3],[4,5,6]])\n",
        "print(arr_2d)\n",
        "\n",
        "#Creating a 3-D array\n",
        "arr_3d = np.array([[[1,2,3],[4,5,6]],[[7,8,9],[10,11,12]]])\n",
        "print(arr_3d)"
      ]
    },
    {
      "cell_type": "code",
      "execution_count": null,
      "metadata": {
        "colab": {
          "base_uri": "https://localhost:8080/"
        },
        "id": "ldho6iS1DyEK",
        "outputId": "758f3a9b-f939-461f-9a30-0699e5ea9fc9"
      },
      "outputs": [
        {
          "name": "stdout",
          "output_type": "stream",
          "text": [
            "[[1 2 3 4]\n",
            " [6 7 8 9]]\n",
            "(2, 4)\n",
            "2\n",
            "int64\n",
            "8\n"
          ]
        }
      ],
      "source": [
        "# Creating array and its attributes\n",
        "arr = np.array([[1,2,3,4],[6,7,8,9]])\n",
        "print(arr)     #Printing the array\n",
        "print(arr.shape) #Printing the shape of array\n",
        "print(arr.ndim)   #Dimensions...\n",
        "print(arr.dtype)  #Type...\n",
        "print(arr.size)    #Size....."
      ]
    },
    {
      "cell_type": "markdown",
      "metadata": {
        "id": "DsymOib9GSXd"
      },
      "source": [
        "# ACCESSING AND MANIPULATING ARRAY ELEMENTS"
      ]
    },
    {
      "cell_type": "code",
      "execution_count": null,
      "metadata": {
        "colab": {
          "base_uri": "https://localhost:8080/"
        },
        "id": "oLj4yJpgGFMk",
        "outputId": "687ac0fa-a3d1-4d31-cb48-d81c1464920a"
      },
      "outputs": [
        {
          "name": "stdout",
          "output_type": "stream",
          "text": [
            "7\n"
          ]
        }
      ],
      "source": [
        "#Accesing 1-D array elements\n",
        "my_arr = np.array([2,5,7,9])\n",
        "print(my_arr[2])"
      ]
    },
    {
      "cell_type": "code",
      "execution_count": null,
      "metadata": {
        "colab": {
          "base_uri": "https://localhost:8080/"
        },
        "id": "YR7lyBgiG9Ic",
        "outputId": "e4984b71-3284-46bd-ee37-bb138449f242"
      },
      "outputs": [
        {
          "name": "stdout",
          "output_type": "stream",
          "text": [
            "5\n"
          ]
        }
      ],
      "source": [
        "#Accesing 2-D array elements\n",
        "my_arr = np.array([[2,5,7,9],[1,3,5,7]])\n",
        "print(my_arr[1,2])"
      ]
    },
    {
      "cell_type": "code",
      "execution_count": null,
      "metadata": {
        "colab": {
          "base_uri": "https://localhost:8080/"
        },
        "id": "f9T-VWMeHJ53",
        "outputId": "9923dcb3-0674-4788-e376-aed878a74f6c"
      },
      "outputs": [
        {
          "name": "stdout",
          "output_type": "stream",
          "text": [
            "5\n"
          ]
        }
      ],
      "source": [
        "#Accessing 3-D array elements\n",
        "my_arr = np.array([[[2,5,7,9],[1,3,5,7]],[[2,5,7,9],[1,3,5,7]]])\n",
        "print(my_arr[0,1,2])"
      ]
    },
    {
      "cell_type": "markdown",
      "metadata": {
        "id": "D0KtrSqGIGNR"
      },
      "source": [
        "## NEGATIVE INDEXING"
      ]
    },
    {
      "cell_type": "code",
      "execution_count": null,
      "metadata": {
        "colab": {
          "base_uri": "https://localhost:8080/"
        },
        "id": "qH0NbeFYHQ4u",
        "outputId": "526b4f0d-9b0a-4790-e6ed-4a0a080f8f13"
      },
      "outputs": [
        {
          "name": "stdout",
          "output_type": "stream",
          "text": [
            "5\n"
          ]
        }
      ],
      "source": [
        "#Accesing 2-D array elements with negative indexing\n",
        "my_arr = np.array([[2,5,7,9],[1,3,5,7]])\n",
        "print(my_arr[1,-2])"
      ]
    },
    {
      "cell_type": "markdown",
      "metadata": {
        "id": "gDZ2QJgrIpOu"
      },
      "source": [
        "## SLICING ARRAYS"
      ]
    },
    {
      "cell_type": "markdown",
      "metadata": {
        "id": "_DixxBeXJEQl"
      },
      "source": [
        "### Important concepts while slicing arrays\n",
        "#### array[start:end]\n",
        "#### array[start:end:step]"
      ]
    },
    {
      "cell_type": "code",
      "execution_count": null,
      "metadata": {
        "colab": {
          "base_uri": "https://localhost:8080/"
        },
        "id": "ddj-WU9rISFu",
        "outputId": "b4f9f31f-0dcc-48ec-ae79-d286511eb217"
      },
      "outputs": [
        {
          "name": "stdout",
          "output_type": "stream",
          "text": [
            "[3 5 7 9]\n",
            "[3 7]\n",
            "[ 1  3  5  7  9 11 13 15 17 19]\n"
          ]
        }
      ],
      "source": [
        "# SLicing a 1-D Numpy Array\n",
        "arr = np.array([1,3,5,7,9,11,13,15,17,19,21])\n",
        "print(arr[1:5])  #Slicing\n",
        "print(arr[1:5:2])  #Slicing with step\n",
        "print(arr[0:-1])   #Negative"
      ]
    },
    {
      "cell_type": "code",
      "execution_count": null,
      "metadata": {
        "colab": {
          "base_uri": "https://localhost:8080/"
        },
        "id": "SOojJZe5JZtV",
        "outputId": "332e6ece-389f-4977-f9d7-b2e3a6849e0b"
      },
      "outputs": [
        {
          "name": "stdout",
          "output_type": "stream",
          "text": [
            "[4 6]\n"
          ]
        }
      ],
      "source": [
        "# Slicing a 2-D Numpy Array\n",
        "arr = np.array([[1,3,5,7],[2,4,6,8]])\n",
        "print(arr[1,1:-1])\n",
        "\n",
        "#HOMEWORK: Experiment with slicing on a 3-D Array\n",
        "#CLASSWORK: Check your whatsapp group"
      ]
    },
    {
      "cell_type": "code",
      "execution_count": null,
      "metadata": {
        "id": "EcBGxixvJ9Z-"
      },
      "outputs": [],
      "source": [
        "import numpy as np\n",
        "#Creating a list named \"my_list\"\n",
        "my_list = [7,14,21,28]\n",
        "#Creating a 1-D numpy array from \"my_list\"\n",
        "my_arr = np.array(my_list)\n",
        "#Printing the array\n",
        "print(my_arr)\n",
        "\n",
        "#Creating a 0-D array\n",
        "arr_0d = np.array(42)\n",
        "print(arr_0d)"
      ]
    }
  ],
  "metadata": {
    "colab": {
      "provenance": []
    },
    "kernelspec": {
      "display_name": "Python 3",
      "name": "python3"
    },
    "language_info": {
      "name": "python"
    }
  },
  "nbformat": 4,
  "nbformat_minor": 0
}

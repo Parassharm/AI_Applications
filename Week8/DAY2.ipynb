{
  "nbformat": 4,
  "nbformat_minor": 0,
  "metadata": {
    "colab": {
      "provenance": []
    },
    "kernelspec": {
      "name": "python3",
      "display_name": "Python 3"
    },
    "language_info": {
      "name": "python"
    }
  },
  "cells": [
    {
      "cell_type": "markdown",
      "source": [
        "##**Section1**"
      ],
      "metadata": {
        "id": "dZlEGzThwRt5"
      }
    },
    {
      "cell_type": "code",
      "source": [
        "print(\"This is my second class on AI\")"
      ],
      "metadata": {
        "colab": {
          "base_uri": "https://localhost:8080/"
        },
        "id": "ZFIZ2Gt6vwjx",
        "outputId": "45ea112a-2c50-45d0-f326-7f25ff615e14"
      },
      "execution_count": null,
      "outputs": [
        {
          "output_type": "stream",
          "name": "stdout",
          "text": [
            "This is my second class on AI\n"
          ]
        }
      ]
    },
    {
      "cell_type": "markdown",
      "source": [
        "Fuctions in Pythis"
      ],
      "metadata": {
        "id": "uAXpwLPjxCTm"
      }
    },
    {
      "cell_type": "code",
      "source": [
        "def area_of_square(num):\n",
        "  return num * num\n",
        "Print(\"This area of first square is :\",area_of_square(6))\n",
        "#Area of second square\n",
        "Print(\"This area of first square is :\",area_of_square(16))"
      ],
      "metadata": {
        "colab": {
          "base_uri": "https://localhost:8080/",
          "height": 211
        },
        "id": "M_zarXkcxH57",
        "outputId": "7d834051-5e24-40c2-9408-abace05e7b70"
      },
      "execution_count": null,
      "outputs": [
        {
          "output_type": "error",
          "ename": "NameError",
          "evalue": "name 'Print' is not defined",
          "traceback": [
            "\u001b[0;31m---------------------------------------------------------------------------\u001b[0m",
            "\u001b[0;31mNameError\u001b[0m                                 Traceback (most recent call last)",
            "\u001b[0;32m<ipython-input-12-bf36d80c106e>\u001b[0m in \u001b[0;36m<cell line: 0>\u001b[0;34m()\u001b[0m\n\u001b[1;32m      1\u001b[0m \u001b[0;32mdef\u001b[0m \u001b[0marea_of_square\u001b[0m\u001b[0;34m(\u001b[0m\u001b[0mnum\u001b[0m\u001b[0;34m)\u001b[0m\u001b[0;34m:\u001b[0m\u001b[0;34m\u001b[0m\u001b[0;34m\u001b[0m\u001b[0m\n\u001b[1;32m      2\u001b[0m   \u001b[0;32mreturn\u001b[0m \u001b[0mnum\u001b[0m \u001b[0;34m*\u001b[0m \u001b[0mnum\u001b[0m\u001b[0;34m\u001b[0m\u001b[0;34m\u001b[0m\u001b[0m\n\u001b[0;32m----> 3\u001b[0;31m \u001b[0mPrint\u001b[0m\u001b[0;34m(\u001b[0m\u001b[0;34m\"This area of first square is :\"\u001b[0m\u001b[0;34m,\u001b[0m\u001b[0marea_of_square\u001b[0m\u001b[0;34m(\u001b[0m\u001b[0;36m6\u001b[0m\u001b[0;34m)\u001b[0m\u001b[0;34m)\u001b[0m\u001b[0;34m\u001b[0m\u001b[0;34m\u001b[0m\u001b[0m\n\u001b[0m\u001b[1;32m      4\u001b[0m \u001b[0;31m#Area of second square\u001b[0m\u001b[0;34m\u001b[0m\u001b[0;34m\u001b[0m\u001b[0m\n\u001b[1;32m      5\u001b[0m \u001b[0mPrint\u001b[0m\u001b[0;34m(\u001b[0m\u001b[0;34m\"This area of first square is :\"\u001b[0m\u001b[0;34m,\u001b[0m\u001b[0marea_of_square\u001b[0m\u001b[0;34m(\u001b[0m\u001b[0;36m16\u001b[0m\u001b[0;34m)\u001b[0m\u001b[0;34m)\u001b[0m\u001b[0;34m\u001b[0m\u001b[0;34m\u001b[0m\u001b[0m\n",
            "\u001b[0;31mNameError\u001b[0m: name 'Print' is not defined"
          ]
        }
      ]
    },
    {
      "cell_type": "markdown",
      "source": [
        "Homework: Find are of circle"
      ],
      "metadata": {
        "id": "d3X462hTyY_P"
      }
    },
    {
      "cell_type": "markdown",
      "source": [
        "LIST IN PYTHON"
      ],
      "metadata": {
        "id": "tsa4ldYQzUbO"
      }
    },
    {
      "cell_type": "code",
      "source": [
        "#creating a list if fruits\n",
        "fruits=[\"apple\",\"banana\",\"kiwi\",\"orange\",\"strawberry\"]\n",
        "#accessing elememts\n",
        "# print(fruits[0])\n",
        "# print(fruits[1])\n",
        "# print(fruits[2])\n",
        "# print(fruits[3])\n",
        "# print(fruits[4])\n",
        "#Adding elememts form list\n",
        "#fruits.append(\"mango\")\n",
        "print(fruits)\n",
        "# #Removing elements from list\n",
        "fruits.remove (\"orange\")\n",
        "print(fruits)"
      ],
      "metadata": {
        "colab": {
          "base_uri": "https://localhost:8080/"
        },
        "id": "uklJrSNvy5o6",
        "outputId": "7d90a5e2-1ae8-4624-dd37-2c95a6da533b"
      },
      "execution_count": null,
      "outputs": [
        {
          "output_type": "stream",
          "name": "stdout",
          "text": [
            "['apple', 'banana', 'kiwi', 'orange', 'strawberry']\n",
            "['apple', 'banana', 'kiwi', 'strawberry']\n"
          ]
        }
      ]
    },
    {
      "cell_type": "markdown",
      "source": [
        "Tuples in **Python**"
      ],
      "metadata": {
        "id": "aIFuOOhT2_nH"
      }
    },
    {
      "cell_type": "markdown",
      "source": [
        "# **Find the area of circle**\n",
        "# Sets in Python (Home Task) **bold text**"
      ],
      "metadata": {
        "id": "lwcbZn2A6V9j"
      }
    },
    {
      "cell_type": "markdown",
      "source": [
        "# Dictionaries in **python**"
      ],
      "metadata": {
        "id": "iQsVkPAB8dnZ"
      }
    },
    {
      "cell_type": "markdown",
      "source": [],
      "metadata": {
        "id": "DgfPe6xQ8dj1"
      }
    },
    {
      "cell_type": "code",
      "source": [
        "# Creating a dictionary\n",
        "student = {\n",
        "  \"name\": \"Ram prasai\",\n",
        "  \"age\" : 30,\n",
        "  \"course\" : \"Computer Science\"\n",
        "}\n",
        "#Accessing values of a particular key in a dictionary\n",
        "print(student[\"age\"])\n",
        "\n",
        "#Updating values of particular key in as dictonary\n",
        "student[\"age\"]=89\n",
        "print(student[\"age\"])\n",
        "\n",
        "# Adding new key-value pair in the dictionary\n",
        "student[\"adress\"]=\"Kathamndu\"\n",
        "\n",
        "print(student)\n",
        "\n",
        "# Removing a key-value pair form a dictonary\n",
        "del student[\"course\"]\n",
        "print(student)\n"
      ],
      "metadata": {
        "colab": {
          "base_uri": "https://localhost:8080/"
        },
        "id": "kfixRlNW3K-G",
        "outputId": "aef1f2d4-f8cb-4864-cc60-67e46373230c"
      },
      "execution_count": null,
      "outputs": [
        {
          "output_type": "stream",
          "name": "stdout",
          "text": [
            "30\n",
            "89\n",
            "{'name': 'Ram prasai', 'age': 89, 'course': 'Computer Science', 'adress': 'Kathamndu'}\n",
            "{'name': 'Ram prasai', 'age': 89, 'adress': 'Kathamndu'}\n"
          ]
        }
      ]
    },
    {
      "cell_type": "markdown",
      "source": [
        "## CLASS **TASK**\n",
        "WEATHER **CONVETER**\n",
        "User to input"
      ],
      "metadata": {
        "id": "milM8PQp6z84"
      }
    },
    {
      "cell_type": "code",
      "source": [
        "def fahrenheit_to_celcius(f):\n",
        "  return (f-32)*5/9\n",
        "print(fahrenheit_to_celcius(15))"
      ],
      "metadata": {
        "colab": {
          "base_uri": "https://localhost:8080/"
        },
        "id": "1vySjizNBNG2",
        "outputId": "a4892795-b671-4f90-9c8f-91ac613e4c46"
      },
      "execution_count": null,
      "outputs": [
        {
          "output_type": "stream",
          "name": "stdout",
          "text": [
            "-9.444444444444445\n"
          ]
        }
      ]
    },
    {
      "cell_type": "code",
      "source": [
        "#Creating a weather converter\n",
        "Fahrenheit=float(input()) #user to input\n",
        "Celsius=(Fahrenheit-32)*5/9 #formula\n",
        "print(Celsius)"
      ],
      "metadata": {
        "colab": {
          "base_uri": "https://localhost:8080/"
        },
        "id": "oO7YI5zn--ze",
        "outputId": "fbaa7417-1410-4705-abbf-6500507f365d"
      },
      "execution_count": null,
      "outputs": [
        {
          "output_type": "stream",
          "name": "stdout",
          "text": [
            "15\n",
            "-9.444444444444445\n"
          ]
        }
      ]
    },
    {
      "cell_type": "code",
      "source": [
        "def area_of_circle (radius):\n",
        "  return 3.14*radius*radius\n",
        "print(\"Area of circle:\", area_of_circle(5))\n"
      ],
      "metadata": {
        "colab": {
          "base_uri": "https://localhost:8080/"
        },
        "id": "PwvaUiRqCg5N",
        "outputId": "fa1863ba-14ab-4668-98f4-94ce71b52f0c"
      },
      "execution_count": null,
      "outputs": [
        {
          "output_type": "stream",
          "name": "stdout",
          "text": [
            "Area of circle: 78.5\n"
          ]
        }
      ]
    },
    {
      "cell_type": "markdown",
      "source": [
        "**Homework**\n",
        "1. Age Calculator"
      ],
      "metadata": {
        "id": "12819vJogCvB"
      }
    },
    {
      "cell_type": "code",
      "source": [
        "def age_calculater (byear):\n",
        "  return 2025-byear\n",
        "byear = int(input())\n",
        "ans = age_calculater(byear)\n",
        "print(\"Current year\",ans)\n"
      ],
      "metadata": {
        "colab": {
          "base_uri": "https://localhost:8080/",
          "height": 356
        },
        "id": "RPoLRWvMgKf9",
        "outputId": "242fe113-c44e-4f1f-bf35-a99f74360c37"
      },
      "execution_count": 9,
      "outputs": [
        {
          "output_type": "error",
          "ename": "KeyboardInterrupt",
          "evalue": "Interrupted by user",
          "traceback": [
            "\u001b[0;31m---------------------------------------------------------------------------\u001b[0m",
            "\u001b[0;31mKeyboardInterrupt\u001b[0m                         Traceback (most recent call last)",
            "\u001b[0;32m<ipython-input-9-75b1c60c3fd0>\u001b[0m in \u001b[0;36m<cell line: 0>\u001b[0;34m()\u001b[0m\n\u001b[1;32m      1\u001b[0m \u001b[0;32mdef\u001b[0m \u001b[0mage_calculater\u001b[0m \u001b[0;34m(\u001b[0m\u001b[0mbyear\u001b[0m\u001b[0;34m)\u001b[0m\u001b[0;34m:\u001b[0m\u001b[0;34m\u001b[0m\u001b[0;34m\u001b[0m\u001b[0m\n\u001b[1;32m      2\u001b[0m   \u001b[0;32mreturn\u001b[0m \u001b[0;36m2025\u001b[0m\u001b[0;34m-\u001b[0m\u001b[0mbyear\u001b[0m\u001b[0;34m\u001b[0m\u001b[0;34m\u001b[0m\u001b[0m\n\u001b[0;32m----> 3\u001b[0;31m \u001b[0mbyear\u001b[0m \u001b[0;34m=\u001b[0m \u001b[0mint\u001b[0m\u001b[0;34m(\u001b[0m\u001b[0minput\u001b[0m\u001b[0;34m(\u001b[0m\u001b[0;34m)\u001b[0m\u001b[0;34m)\u001b[0m\u001b[0;34m;\u001b[0m\u001b[0;34m\u001b[0m\u001b[0;34m\u001b[0m\u001b[0m\n\u001b[0m\u001b[1;32m      4\u001b[0m \u001b[0mans\u001b[0m \u001b[0;34m=\u001b[0m \u001b[0mage_calculater\u001b[0m\u001b[0;34m(\u001b[0m\u001b[0mbyear\u001b[0m\u001b[0;34m)\u001b[0m\u001b[0;34m\u001b[0m\u001b[0;34m\u001b[0m\u001b[0m\n\u001b[1;32m      5\u001b[0m \u001b[0mprint\u001b[0m\u001b[0;34m(\u001b[0m\u001b[0;34m\"Current year\"\u001b[0m\u001b[0;34m,\u001b[0m\u001b[0mans\u001b[0m\u001b[0;34m)\u001b[0m\u001b[0;34m\u001b[0m\u001b[0;34m\u001b[0m\u001b[0m\n",
            "\u001b[0;32m/usr/local/lib/python3.11/dist-packages/ipykernel/kernelbase.py\u001b[0m in \u001b[0;36mraw_input\u001b[0;34m(self, prompt)\u001b[0m\n\u001b[1;32m   1175\u001b[0m                 \u001b[0;34m\"raw_input was called, but this frontend does not support input requests.\"\u001b[0m\u001b[0;34m\u001b[0m\u001b[0;34m\u001b[0m\u001b[0m\n\u001b[1;32m   1176\u001b[0m             )\n\u001b[0;32m-> 1177\u001b[0;31m         return self._input_request(\n\u001b[0m\u001b[1;32m   1178\u001b[0m             \u001b[0mstr\u001b[0m\u001b[0;34m(\u001b[0m\u001b[0mprompt\u001b[0m\u001b[0;34m)\u001b[0m\u001b[0;34m,\u001b[0m\u001b[0;34m\u001b[0m\u001b[0;34m\u001b[0m\u001b[0m\n\u001b[1;32m   1179\u001b[0m             \u001b[0mself\u001b[0m\u001b[0;34m.\u001b[0m\u001b[0m_parent_ident\u001b[0m\u001b[0;34m[\u001b[0m\u001b[0;34m\"shell\"\u001b[0m\u001b[0;34m]\u001b[0m\u001b[0;34m,\u001b[0m\u001b[0;34m\u001b[0m\u001b[0;34m\u001b[0m\u001b[0m\n",
            "\u001b[0;32m/usr/local/lib/python3.11/dist-packages/ipykernel/kernelbase.py\u001b[0m in \u001b[0;36m_input_request\u001b[0;34m(self, prompt, ident, parent, password)\u001b[0m\n\u001b[1;32m   1217\u001b[0m             \u001b[0;32mexcept\u001b[0m \u001b[0mKeyboardInterrupt\u001b[0m\u001b[0;34m:\u001b[0m\u001b[0;34m\u001b[0m\u001b[0;34m\u001b[0m\u001b[0m\n\u001b[1;32m   1218\u001b[0m                 \u001b[0;31m# re-raise KeyboardInterrupt, to truncate traceback\u001b[0m\u001b[0;34m\u001b[0m\u001b[0;34m\u001b[0m\u001b[0m\n\u001b[0;32m-> 1219\u001b[0;31m                 \u001b[0;32mraise\u001b[0m \u001b[0mKeyboardInterrupt\u001b[0m\u001b[0;34m(\u001b[0m\u001b[0;34m\"Interrupted by user\"\u001b[0m\u001b[0;34m)\u001b[0m \u001b[0;32mfrom\u001b[0m \u001b[0;32mNone\u001b[0m\u001b[0;34m\u001b[0m\u001b[0;34m\u001b[0m\u001b[0m\n\u001b[0m\u001b[1;32m   1220\u001b[0m             \u001b[0;32mexcept\u001b[0m \u001b[0mException\u001b[0m\u001b[0;34m:\u001b[0m\u001b[0;34m\u001b[0m\u001b[0;34m\u001b[0m\u001b[0m\n\u001b[1;32m   1221\u001b[0m                 \u001b[0mself\u001b[0m\u001b[0;34m.\u001b[0m\u001b[0mlog\u001b[0m\u001b[0;34m.\u001b[0m\u001b[0mwarning\u001b[0m\u001b[0;34m(\u001b[0m\u001b[0;34m\"Invalid Message:\"\u001b[0m\u001b[0;34m,\u001b[0m \u001b[0mexc_info\u001b[0m\u001b[0;34m=\u001b[0m\u001b[0;32mTrue\u001b[0m\u001b[0;34m)\u001b[0m\u001b[0;34m\u001b[0m\u001b[0;34m\u001b[0m\u001b[0m\n",
            "\u001b[0;31mKeyboardInterrupt\u001b[0m: Interrupted by user"
          ]
        }
      ]
    },
    {
      "cell_type": "markdown",
      "source": [
        "**2. Simple Interest Calculator**"
      ],
      "metadata": {
        "id": "7fMPoantkKhV"
      }
    },
    {
      "cell_type": "code",
      "source": [
        "def simple_interest(p,r,t):\n",
        "  return (p*r*t)/100\n",
        "\n",
        "p=int(input(\"What's the principle amount=\"))\n",
        "t=int(input(\"What's the time=\"))\n",
        "r=int(input(\"What's the rate=\"))\n",
        "ans=simple_interest(p,r,t)\n",
        "print(\"Simple Interest is \",ans)\n",
        ""
      ],
      "metadata": {
        "colab": {
          "base_uri": "https://localhost:8080/"
        },
        "id": "V3rAOekckPsr",
        "outputId": "4bc3c2da-8edc-4add-aca1-23c8300aff81"
      },
      "execution_count": 16,
      "outputs": [
        {
          "output_type": "stream",
          "name": "stdout",
          "text": [
            "What's the principle amount=२०००\n",
            "What's the time=२\n",
            "What's the rate=१०\n",
            "Simple Interest is  400.0\n"
          ]
        }
      ]
    },
    {
      "cell_type": "markdown",
      "source": [
        "**3. BMI Calculator**"
      ],
      "metadata": {
        "id": "XF5i9EqsnDvh"
      }
    },
    {
      "cell_type": "code",
      "source": [
        "def BMI_Calulator(height,weight):\n",
        "  return (weight/height)\n",
        "height=float(input(\"HEIGHT in meters=\"))\n",
        "weight=float(input(\"WEIGHT in kg=\"))\n",
        "ans=BMI_Calulator(height,weight)\n",
        "print(\"YOUR BMI=\",ans)"
      ],
      "metadata": {
        "colab": {
          "base_uri": "https://localhost:8080/"
        },
        "id": "xREQG9C_nDXl",
        "outputId": "ac68c229-eb4a-462d-a86c-045d4e555763"
      },
      "execution_count": 23,
      "outputs": [
        {
          "output_type": "stream",
          "name": "stdout",
          "text": [
            "HEIGHT in meters=1.5\n",
            "WEIGHT in kg=55\n",
            "YOUR BMI= 36.666666666666664\n"
          ]
        }
      ]
    },
    {
      "cell_type": "markdown",
      "source": [
        "**4. Currency Converter**"
      ],
      "metadata": {
        "id": "Uahc12ZDrNva"
      }
    },
    {
      "cell_type": "code",
      "source": [
        "def Currency_conveter(NRP):\n",
        "  return (NRP/132)\n",
        "NRP=float(input(\"NRP=\"))\n",
        "ans=Currency_conveter(NRP)\n",
        "print(\"NRP to USD=\",ans)"
      ],
      "metadata": {
        "colab": {
          "base_uri": "https://localhost:8080/"
        },
        "id": "OhFptTKVrQ4i",
        "outputId": "14b28a52-318b-4443-f282-abbe1b3f1abc"
      },
      "execution_count": 29,
      "outputs": [
        {
          "output_type": "stream",
          "name": "stdout",
          "text": [
            "NRP=1\n",
            "NRP to USD= 0.007575757575757576\n"
          ]
        }
      ]
    }
  ]
}
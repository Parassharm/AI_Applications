{
  "cells": [
    {
      "cell_type": "markdown",
      "metadata": {
        "id": "dZlEGzThwRt5"
      },
      "source": [
        "##**Section1**"
      ]
    },
    {
      "cell_type": "code",
      "execution_count": null,
      "metadata": {
        "id": "ZFIZ2Gt6vwjx"
      },
      "outputs": [],
      "source": [
        "print(\"This is my second class on AI\") "
      ]
    },
    {
      "cell_type": "markdown",
      "metadata": {
        "id": "uAXpwLPjxCTm"
      },
      "source": [
        "Fuctions in Pythis"
      ]
    },
    {
      "cell_type": "code",
      "execution_count": null,
      "metadata": {
        "id": "M_zarXkcxH57"
      },
      "outputs": [],
      "source": [
        "def area_of_square(num):\n",
        "  return num * num\n",
        "Print(\"This area of first square is :\",area_of_square(6))\n",
        "#Area of second square\n",
        "Print(\"This area of first square is :\",area_of_square(16))"
      ]
    },
    {
      "cell_type": "markdown",
      "metadata": {
        "id": "d3X462hTyY_P"
      },
      "source": [
        "Homework: Find are of circle"
      ]
    },
    {
      "cell_type": "markdown",
      "metadata": {
        "id": "tsa4ldYQzUbO"
      },
      "source": [
        "LIST IN PYTHON"
      ]
    },
    {
      "cell_type": "code",
      "execution_count": null,
      "metadata": {
        "id": "uklJrSNvy5o6"
      },
      "outputs": [],
      "source": [
        "#creating a list if fruits\n",
        "fruits=[\"apple\",\"banana\",\"kiwi\",\"orange\",\"strawberry\"]\n",
        "#accessing elememts\n",
        "# print(fruits[0])\n",
        "# print(fruits[1])\n",
        "# print(fruits[2])\n",
        "# print(fruits[3])\n",
        "# print(fruits[4])\n",
        "#Adding elememts form list\n",
        "#fruits.append(\"mango\")\n",
        "print(fruits)\n",
        "# #Removing elements from list\n",
        "fruits.remove (\"orange\")\n",
        "print(fruits)"
      ]
    },
    {
      "cell_type": "markdown",
      "metadata": {
        "id": "aIFuOOhT2_nH"
      },
      "source": [
        "Tuples in **Python**"
      ]
    },
    {
      "cell_type": "markdown",
      "metadata": {
        "id": "lwcbZn2A6V9j"
      },
      "source": [
        "# **Find the area of circle**\n",
        "# Sets in Python (Home Task) **bold text**"
      ]
    },
    {
      "cell_type": "markdown",
      "metadata": {
        "id": "iQsVkPAB8dnZ"
      },
      "source": [
        "# Dictionaries in **python**"
      ]
    },
    {
      "cell_type": "markdown",
      "metadata": {
        "id": "DgfPe6xQ8dj1"
      },
      "source": []
    },
    {
      "cell_type": "code",
      "execution_count": null,
      "metadata": {
        "id": "kfixRlNW3K-G"
      },
      "outputs": [],
      "source": [
        "# Creating a dictionary\n",
        "student = {\n",
        "  \"name\": \"Ram prasai\",\n",
        "  \"age\" : 30,\n",
        "  \"course\" : \"Computer Science\"\n",
        "}\n",
        "#Accessing values of a particular key in a dictionary\n",
        "print(student[\"age\"])\n",
        "\n",
        "#Updating values of particular key in as dictonary\n",
        "student[\"age\"]=89\n",
        "print(student[\"age\"])\n",
        "\n",
        "# Adding new key-value pair in the dictionary\n",
        "student[\"adress\"]=\"Kathamndu\"\n",
        "\n",
        "print(student)\n",
        "\n",
        "# Removing a key-value pair form a dictonary\n",
        "del student[\"course\"]\n",
        "print(student)\n"
      ]
    },
    {
      "cell_type": "markdown",
      "metadata": {
        "id": "milM8PQp6z84"
      },
      "source": [
        "## CLASS **TASK**\n",
        "WEATHER **CONVETER**\n",
        "User to input"
      ]
    },
    {
      "cell_type": "code",
      "execution_count": null,
      "metadata": {
        "id": "1vySjizNBNG2"
      },
      "outputs": [],
      "source": [
        "def fahrenheit_to_celcius(f):\n",
        "  return (f-32)*5/9\n",
        "print(fahrenheit_to_celcius(15))"
      ]
    },
    {
      "cell_type": "code",
      "execution_count": null,
      "metadata": {
        "id": "oO7YI5zn--ze"
      },
      "outputs": [],
      "source": [
        "#Creating a weather converter\n",
        "Fahrenheit=float(input()) #user to input\n",
        "Celsius=(Fahrenheit-32)*5/9 #formula\n",
        "print(Celsius)"
      ]
    },
    {
      "cell_type": "code",
      "execution_count": null,
      "metadata": {
        "id": "PwvaUiRqCg5N"
      },
      "outputs": [],
      "source": [
        "def area_of_circle (radius):\n",
        "  return 3.14*radius*radius\n",
        "print(\"Area of circle:\", area_of_circle(5))\n"
      ]
    },
    {
      "cell_type": "markdown",
      "metadata": {
        "id": "12819vJogCvB"
      },
      "source": [
        "**Homework**\n",
        "1. Age Calculator"
      ]
    },
    {
      "cell_type": "code",
      "execution_count": null,
      "metadata": {
        "id": "RPoLRWvMgKf9"
      },
      "outputs": [],
      "source": [
        "def age_calculater (byear):\n",
        "  return 2025-byear\n",
        "byear = int(input())\n",
        "ans = age_calculater(byear)\n",
        "print(\"Current year\",ans)\n"
      ]
    },
    {
      "cell_type": "markdown",
      "metadata": {
        "id": "7fMPoantkKhV"
      },
      "source": [
        "**2. Simple Interest Calculator**"
      ]
    },
    {
      "cell_type": "code",
      "execution_count": null,
      "metadata": {
        "id": "V3rAOekckPsr"
      },
      "outputs": [],
      "source": [
        "def simple_interest(p,r,t):\n",
        "  return (p*r*t)/100\n",
        "\n",
        "p=int(input(\"What's the principle amount=\"))\n",
        "t=int(input(\"What's the time=\"))\n",
        "r=int(input(\"What's the rate=\"))\n",
        "ans=simple_interest(p,r,t)\n",
        "print(\"Simple Interest is \",ans)\n"
      ]
    },
    {
      "cell_type": "markdown",
      "metadata": {
        "id": "XF5i9EqsnDvh"
      },
      "source": [
        "**3. BMI Calculator**"
      ]
    },
    {
      "cell_type": "code",
      "execution_count": null,
      "metadata": {
        "id": "xREQG9C_nDXl"
      },
      "outputs": [],
      "source": [
        "def BMI_Calulator(height,weight):\n",
        "  return (weight/height)\n",
        "height=float(input(\"HEIGHT in meters=\"))\n",
        "weight=float(input(\"WEIGHT in kg=\"))\n",
        "ans=BMI_Calulator(height,weight)\n",
        "print(\"YOUR BMI=\",ans)"
      ]
    },
    {
      "cell_type": "markdown",
      "metadata": {
        "id": "Uahc12ZDrNva"
      },
      "source": [
        "**4. Currency Converter**"
      ]
    },
    {
      "cell_type": "markdown",
      "metadata": {
        "id": "_eLodU9eG2sq"
      },
      "source": []
    },
    {
      "cell_type": "code",
      "execution_count": null,
      "metadata": {
        "id": "OhFptTKVrQ4i"
      },
      "outputs": [],
      "source": [
        "def Currency_conveter(NRP):\n",
        "  return (NRP/132)\n",
        "NRP=float(input(\"NRP=\"))\n",
        "ans=Currency_conveter(NRP)\n",
        "print(\"NRP to USD=\",ans)"
      ]
    },
    {
      "cell_type": "markdown",
      "metadata": {
        "id": "fYkPGZAHHMRv"
      },
      "source": [
        "**STRING MANUPALTION IN PYTHON**"
      ]
    },
    {
      "cell_type": "code",
      "execution_count": null,
      "metadata": {
        "colab": {
          "background_save": true
        },
        "id": "NjGRyqo9HNYx"
      },
      "outputs": [],
      "source": [
        "# creating a variable named \"text\" that contains  leading and traring spaces\n",
        "text= \" Hello Python \"\n",
        "\n",
        "#.lower() is used here to convert  original text into lowercase\n",
        "print(text.lower())\n",
        "\n",
        "\n",
        "#.strip() is used here to remove space here text\n",
        "print(text.strip())\n",
        "\n",
        "print(text.replace(\"Hello\", \"Hi\"))\n",
        "\n",
        "#Splitting and joining\n",
        "#function chaining or method chaining\n",
        "splitted=text.strip().split()\n",
        "\n",
        "joined= \"-\".join(splitted)\n",
        "print(joined)"
      ]
    },
    {
      "cell_type": "markdown",
      "metadata": {
        "id": "RxieaWm5Lf1l"
      },
      "source": [
        "***MODULAR PROGRAMMING IN PYTHON***"
      ]
    },
    {
      "cell_type": "code",
      "execution_count": null,
      "metadata": {
        "colab": {
          "background_save": true
        },
        "id": "Pmk7V6fBLoo4"
      },
      "outputs": [],
      "source": [
        "# Importing Math module\n",
        "import math\n",
        "\n",
        "square_root= math.sqrt (25)\n",
        "print(int(square_root))"
      ]
    },
    {
      "cell_type": "code",
      "execution_count": null,
      "metadata": {
        "id": "Sceyp_F_MKg4"
      },
      "outputs": [],
      "source": [
        "floor=math.floor(3.7)\n",
        "print(\"The flooring of 3.7:\", floor)\n",
        "\n",
        "ceiling=math.ceil(3.7)\n",
        "print=(\"The ceiling of 3.7:\", ceiling)"
      ]
    },
    {
      "cell_type": "markdown",
      "metadata": {
        "id": "x0_e6O6-Mmzu"
      },
      "source": [
        "**MODULE ALASISING**"
      ]
    },
    {
      "cell_type": "code",
      "execution_count": null,
      "metadata": {
        "id": "moVRDuvpMrT8"
      },
      "outputs": [],
      "source": [
        "import matplotlib.pylot as plt\n",
        "plt.plot([1,2,3],[])"
      ]
    },
    {
      "cell_type": "code",
      "execution_count": null,
      "metadata": {
        "id": "5Ix4BIQIORau"
      },
      "outputs": [],
      "source": [
        "a= [1,2,3,4]\n",
        "print(a)\n",
        "b=a\n",
        "b.append(5)\n",
        "print(a)"
      ]
    },
    {
      "cell_type": "markdown",
      "metadata": {
        "id": "ZYAZtbQgNxjb"
      },
      "source": [
        "#Home work: Experiment with function/ Method Aliasing"
      ]
    },
    {
      "cell_type": "markdown",
      "metadata": {
        "id": "v21Z0voHN--9"
      },
      "source": [
        "**Randoms in pythons**"
      ]
    },
    {
      "cell_type": "code",
      "execution_count": null,
      "metadata": {
        "id": "JfUKfzbbOaad"
      },
      "outputs": [],
      "source": [
        "import= random as rnd\n",
        "print(rnd.random(1,10))"
      ]
    },
    {
      "cell_type": "code",
      "execution_count": null,
      "metadata": {
        "id": "N20gYbgGPN8X"
      },
      "outputs": [],
      "source": [
        "random_float= rnd.random()\n",
        "  print(random_float)"
      ]
    },
    {
      "cell_type": "code",
      "execution_count": null,
      "metadata": {
        "id": "igVz2jICPdiS"
      },
      "outputs": [],
      "source": [
        "random_float_in_range= rnd.uniform(10.5,30.5)\n",
        "  print(random_float_in_range)"
      ]
    },
    {
      "cell_type": "markdown",
      "metadata": {
        "id": "OBBYw6HwPtmO"
      },
      "source": [
        "# HOMEWORK: Explore more modules and functions / Mehtods"
      ]
    },
    {
      "cell_type": "markdown",
      "metadata": {
        "id": "oQnn_ThcP5_g"
      },
      "source": [
        "**CREATING CUSTOM MODUELS IN PYTHON**"
      ]
    },
    {
      "cell_type": "markdown",
      "metadata": {
        "id": "p52h3d7mTPbn"
      },
      "source": []
    },
    {
      "cell_type": "code",
      "execution_count": null,
      "metadata": {
        "id": "eyWuFFziTMhk"
      },
      "outputs": [],
      "source": [
        "#Create a Python File\n",
        "#Create a new file with a .py extension.\n",
        "# mymodule.py\n",
        "\n",
        "def greet(name):\n",
        "    return f\"Hello, {name}!\"\n",
        "\n",
        "def add(a, b):\n",
        "    return a + b"
      ]
    },
    {
      "cell_type": "code",
      "execution_count": null,
      "metadata": {
        "colab": {
          "base_uri": "https://localhost:8080/",
          "height": 383
        },
        "id": "uEkqSE7UQDBo",
        "outputId": "707dedcf-8d66-4a36-e748-b042a03bb649"
      },
      "outputs": [
        {
          "ename": "ModuleNotFoundError",
          "evalue": "No module named 'mymodule'",
          "output_type": "error",
          "traceback": [
            "\u001b[0;31m---------------------------------------------------------------------------\u001b[0m",
            "\u001b[0;31mModuleNotFoundError\u001b[0m                       Traceback (most recent call last)",
            "\u001b[0;32m<ipython-input-4-9272af1370d2>\u001b[0m in \u001b[0;36m<cell line: 0>\u001b[0;34m()\u001b[0m\n\u001b[1;32m      2\u001b[0m \u001b[0;31m# main.py\u001b[0m\u001b[0;34m\u001b[0m\u001b[0;34m\u001b[0m\u001b[0m\n\u001b[1;32m      3\u001b[0m \u001b[0;34m\u001b[0m\u001b[0m\n\u001b[0;32m----> 4\u001b[0;31m \u001b[0;32mimport\u001b[0m \u001b[0mmymodule\u001b[0m\u001b[0;34m\u001b[0m\u001b[0;34m\u001b[0m\u001b[0m\n\u001b[0m\u001b[1;32m      5\u001b[0m \u001b[0;34m\u001b[0m\u001b[0m\n\u001b[1;32m      6\u001b[0m \u001b[0mprint\u001b[0m\u001b[0;34m(\u001b[0m\u001b[0mmymodule\u001b[0m\u001b[0;34m.\u001b[0m\u001b[0mgreet\u001b[0m\u001b[0;34m(\u001b[0m\u001b[0;34m\"Paras\"\u001b[0m\u001b[0;34m)\u001b[0m\u001b[0;34m)\u001b[0m\u001b[0;34m\u001b[0m\u001b[0;34m\u001b[0m\u001b[0m\n",
            "\u001b[0;31mModuleNotFoundError\u001b[0m: No module named 'mymodule'",
            "",
            "\u001b[0;31m---------------------------------------------------------------------------\u001b[0;32m\nNOTE: If your import is failing due to a missing package, you can\nmanually install dependencies using either !pip or !apt.\n\nTo view examples of installing some common dependencies, click the\n\"Open Examples\" button below.\n\u001b[0;31m---------------------------------------------------------------------------\u001b[0m\n"
          ]
        }
      ],
      "source": [
        "#create another Python file (e.g., main.py)\n",
        "# main.py\n",
        "\n",
        "import mymodule\n",
        "\n",
        "print(mymodule.greet(\"Paras\"))\n",
        "print(mymodule.add(5, 7))"
      ]
    },
    {
      "cell_type": "markdown",
      "metadata": {
        "id": "F2d4yuvAUx4P"
      },
      "source": [
        "Import shuffle from random, create a list [10, 20, 30, 40], shuffle it\n",
        "and print."
      ]
    },
    {
      "cell_type": "code",
      "execution_count": null,
      "metadata": {
        "colab": {
          "base_uri": "https://localhost:8080/"
        },
        "id": "u6B6rp-UUxh0",
        "outputId": "9d65cd1e-594a-4452-87d1-c12b7b0ce653"
      },
      "outputs": [
        {
          "name": "stdout",
          "output_type": "stream",
          "text": [
            "Shuffled List: [20, 10, 30, 40]\n"
          ]
        }
      ],
      "source": [
        "from random import shuffle\n",
        "\n",
        "# लिष्ट बनाउने\n",
        "my_list = [10, 20, 30, 40]\n",
        "\n",
        "# Shuffle गराउने\n",
        "shuffle(my_list)\n",
        "\n",
        "# Print\n",
        "print(\"Shuffled List:\", my_list)"
      ]
    },
    {
      "cell_type": "markdown",
      "metadata": {
        "id": "2JU18_aaU7Tk"
      },
      "source": [
        "Add a subtract function to helper.py and use it to subtract 5 from 10. Add another divisor function to helper.py and use it to divide between 2 numbers of your choice."
      ]
    },
    {
      "cell_type": "code",
      "execution_count": null,
      "metadata": {
        "colab": {
          "base_uri": "https://localhost:8080/"
        },
        "id": "TdsJDrKeXlAr",
        "outputId": "12f759e9-fc7b-4593-ac1e-0cd39a3d100b"
      },
      "outputs": [
        {
          "name": "stdout",
          "output_type": "stream",
          "text": [
            "Writing helper1.py\n"
          ]
        }
      ],
      "source": [
        "%%writefile helper1.py\n",
        "def sub_num (a,b):\n",
        "  return a-b\n",
        "def add_num (a,b):\n",
        "  return a-b"
      ]
    },
    {
      "cell_type": "code",
      "execution_count": null,
      "metadata": {
        "colab": {
          "base_uri": "https://localhost:8080/"
        },
        "id": "mVDMk3KdU-cb",
        "outputId": "729963c3-f702-444c-f327-0b27e1ef9ee3"
      },
      "outputs": [
        {
          "name": "stdout",
          "output_type": "stream",
          "text": [
            "The additon between these number is: -5\n",
            "The subtraction between -6\n"
          ]
        }
      ],
      "source": [
        "#main.py\n",
        "import helper1\n",
        "adding= helper1.add_num(5,10)\n",
        "print(\"The additon between these number is:\", adding)\n",
        "\n",
        "result2= helper1.sub_num (3,9)\n",
        "print(\"The subtraction between\", result2)"
      ]
    },
    {
      "cell_type": "code",
      "execution_count": null,
      "metadata": {
        "id": "AiirpgYpYgFz"
      },
      "outputs": [],
      "source": []
    }
  ],
  "metadata": {
    "colab": {
      "provenance": []
    },
    "kernelspec": {
      "display_name": "Python 3",
      "name": "python3"
    },
    "language_info": {
      "name": "python"
    }
  },
  "nbformat": 4,
  "nbformat_minor": 0
}

{
  "nbformat": 4,
  "nbformat_minor": 0,
  "metadata": {
    "colab": {
      "provenance": []
    },
    "kernelspec": {
      "name": "python3",
      "display_name": "Python 3"
    },
    "language_info": {
      "name": "python"
    }
  },
  "cells": [
    {
      "cell_type": "markdown",
      "source": [
        "# Hands-On Practice: Pandas and Matplotlib"
      ],
      "metadata": {
        "id": "jnCRlhXgvMaT"
      }
    },
    {
      "cell_type": "markdown",
      "source": [
        "## Exercise 1: Creating a Pandas Series\n",
        "#### Pandas Series = 1-D array with labels"
      ],
      "metadata": {
        "id": "a6pz18LZvP8h"
      }
    },
    {
      "cell_type": "code",
      "execution_count": 1,
      "metadata": {
        "colab": {
          "base_uri": "https://localhost:8080/"
        },
        "id": "VgV8pWl8EvQb",
        "outputId": "84f1545b-b220-421e-bd84-94ae2fd2a4fb"
      },
      "outputs": [
        {
          "output_type": "stream",
          "name": "stdout",
          "text": [
            "Maths        56\n",
            "Science      89\n",
            "English      35\n",
            "History      80\n",
            "Geography    91\n",
            "dtype: int64\n"
          ]
        }
      ],
      "source": [
        "import pandas as pd\n",
        "scores = pd.Series([56,89,35,80,91],index=[\"Maths\",\"Science\",\"English\",\"History\",\"Geography\"])\n",
        "print(scores)\n",
        "\n",
        "# Task 1: Create a Pandas Series with values [10, 20, 30, 40] and indices [”A”,\n",
        "# ”B”, ”C”, ”D”]. Print the Series."
      ]
    },
    {
      "cell_type": "markdown",
      "source": [
        "## Exercise 2: Creating a Pandas DataFrame"
      ],
      "metadata": {
        "id": "5Mj1we23wczC"
      }
    },
    {
      "cell_type": "markdown",
      "source": [
        "#### Dataframe is in a table format"
      ],
      "metadata": {
        "id": "tdukIPgIws7e"
      }
    },
    {
      "cell_type": "code",
      "source": [
        "#Creating a dictionary\n",
        "data = {\n",
        "    \"Name\":[\"Aarav\",\"Bikram\",\"Samir\"],\n",
        "    \"Age\":[25,26,22],\n",
        "    \"City\":[\"Delhi\",\"Kathmandu\",\"Dhaka\"],\n",
        "    \"Country\":[\"India\",\"India\",\"Bangladesh\"]\n",
        "}\n",
        "#Turning the dictionary into a DataFrame\n",
        "df = pd.DataFrame(data)\n",
        "#Printing the DataFrame\n",
        "print(df)\n",
        "\n",
        "#Printing the DataFrame without index\n",
        "print(df.to_string(index=False))\n",
        "\n",
        "# Task 2: Create a DataFrame with columns ”City” ([”Paris”, ”Tokyo”, ”Syd-\n",
        "# ney”]) and ”Population” ([2.1, 37.4, 5.3]). Print the DataFrame."
      ],
      "metadata": {
        "colab": {
          "base_uri": "https://localhost:8080/"
        },
        "id": "SMXiVcvBv93q",
        "outputId": "a8dbf670-c051-4071-d7cc-f2a419312872"
      },
      "execution_count": 12,
      "outputs": [
        {
          "output_type": "stream",
          "name": "stdout",
          "text": [
            "     Name  Age       City     Country\n",
            "0   Aarav   25      Delhi       India\n",
            "1  Bikram   26  Kathmandu       India\n",
            "2   Samir   22      Dhaka  Bangladesh\n",
            "  Name  Age      City    Country\n",
            " Aarav   25     Delhi      India\n",
            "Bikram   26 Kathmandu      India\n",
            " Samir   22     Dhaka Bangladesh\n"
          ]
        }
      ]
    },
    {
      "cell_type": "markdown",
      "source": [
        "## Exercise 3: Filtering Data in a DataFrame"
      ],
      "metadata": {
        "id": "HJCxmxNty_F7"
      }
    },
    {
      "cell_type": "code",
      "source": [],
      "metadata": {
        "id": "shYpDOZ1xm8e"
      },
      "execution_count": null,
      "outputs": []
    }
  ]
}
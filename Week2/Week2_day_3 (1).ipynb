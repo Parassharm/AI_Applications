{
  "cells": [
    {
      "cell_type": "markdown",
      "metadata": {
        "id": "Ay6pFQ6aIa7n"
      },
      "source": [
        "#Probability Basics for AI\n",
        "Exersice 1: Theoretical Probaibility"
      ]
    },
    {
      "cell_type": "code",
      "execution_count": null,
      "metadata": {
        "colab": {
          "base_uri": "https://localhost:8080/"
        },
        "id": "OOQRiyNmIVVJ",
        "outputId": "f7e044e5-7099-40b3-c66c-e67db2c59def"
      },
      "outputs": [
        {
          "name": "stdout",
          "output_type": "stream",
          "text": [
            "0.16666666666666666\n"
          ]
        }
      ],
      "source": [
        "# Decalaring fav and total outcome for rolling 1 on a die!\n",
        "\n",
        "favourable_outcome = 1\n",
        "total_outcome = 6\n",
        "\n",
        "probability = favourable_outcome / total_outcome\n",
        "print(probability)"
      ]
    },
    {
      "cell_type": "markdown",
      "metadata": {
        "id": "tcD-xVy0J8BQ"
      },
      "source": [
        "#Expriemental Probability"
      ]
    },
    {
      "cell_type": "code",
      "execution_count": null,
      "metadata": {
        "colab": {
          "base_uri": "https://localhost:8080/"
        },
        "id": "wqhfFjqWKzkE",
        "outputId": "5438d97d-6e61-4346-a3c2-eb3cfb5f3180"
      },
      "outputs": [
        {
          "output_type": "stream",
          "name": "stdout",
          "text": [
            "Estimated Probability of Head: 0.58\n"
          ]
        }
      ],
      "source": [
        "# A standard deck has 52 cards. There are 12 face cards (Jack, Queen, King – 4 of each).\n",
        "# What is the probability that a card is a King given that it’s a face card?\n",
        "\n",
        "\n",
        "\n",
        "import random\n",
        "\n",
        "trials = 100\n",
        "heads = 0\n",
        "\n",
        "for _ in range(trials):\n",
        "    if random.choice([\"Head\", \"Tail\"]) == \"Head\":\n",
        "        heads += 1\n",
        "\n",
        "probability = heads / trials\n",
        "print(\"Estimated Probability of Head:\", probability)\n",
        "\n",
        "\n"
      ]
    },
    {
      "cell_type": "markdown",
      "source": [],
      "metadata": {
        "id": "L8Bfe9eaOOmV"
      }
    },
    {
      "cell_type": "code",
      "source": [],
      "metadata": {
        "colab": {
          "base_uri": "https://localhost:8080/"
        },
        "id": "jYJyGLTnNu1s",
        "outputId": "eeb72588-6755-4282-a41a-f0805fbbfbdc"
      },
      "execution_count": null,
      "outputs": [
        {
          "output_type": "stream",
          "name": "stdout",
          "text": [
            "Face cards in the deck:\n",
            "('Jack', 'Hearts')\n",
            "('Queen', 'Hearts')\n",
            "('King', 'Hearts')\n",
            "('Jack', 'Diamonds')\n",
            "('Queen', 'Diamonds')\n",
            "('King', 'Diamonds')\n",
            "('Jack', 'Clubs')\n",
            "('Queen', 'Clubs')\n",
            "('King', 'Clubs')\n",
            "('Jack', 'Spades')\n",
            "('Queen', 'Spades')\n",
            "('King', 'Spades')\n",
            "\n",
            "Total number of face cards: 12\n"
          ]
        }
      ]
    },
    {
      "cell_type": "markdown",
      "source": [
        "**CLASS TASK**"
      ],
      "metadata": {
        "id": "li8cP8X3OZiH"
      }
    },
    {
      "cell_type": "code",
      "source": [
        "#FACE CARD\n",
        "\n"
      ],
      "metadata": {
        "id": "TZymMeccPEu-"
      },
      "execution_count": null,
      "outputs": []
    },
    {
      "cell_type": "code",
      "source": [],
      "metadata": {
        "id": "krBz1FDWPGUF"
      },
      "execution_count": null,
      "outputs": []
    }
  ],
  "metadata": {
    "colab": {
      "provenance": []
    },
    "kernelspec": {
      "display_name": "Python 3",
      "name": "python3"
    },
    "language_info": {
      "name": "python"
    }
  },
  "nbformat": 4,
  "nbformat_minor": 0
}